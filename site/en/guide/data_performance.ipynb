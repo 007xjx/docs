{
 "cells": [
  {
   "cell_type": "markdown",
   "metadata": {
    "colab_type": "text",
    "id": "Tce3stUlHN0L"
   },
   "source": [
    "##### Copyright 2019 The TensorFlow Authors."
   ]
  },
  {
   "cell_type": "code",
   "execution_count": 1,
   "metadata": {
    "cellView": "form",
    "colab": {},
    "colab_type": "code",
    "id": "tuOe1ymfHZPu"
   },
   "outputs": [],
   "source": [
    "#@title Licensed under the Apache License, Version 2.0 (the \"License\");\n",
    "# you may not use this file except in compliance with the License.\n",
    "# You may obtain a copy of the License at\n",
    "#\n",
    "# https://www.apache.org/licenses/LICENSE-2.0\n",
    "#\n",
    "# Unless required by applicable law or agreed to in writing, software\n",
    "# distributed under the License is distributed on an \"AS IS\" BASIS,\n",
    "# WITHOUT WARRANTIES OR CONDITIONS OF ANY KIND, either express or implied.\n",
    "# See the License for the specific language governing permissions and\n",
    "# limitations under the License."
   ]
  },
  {
   "cell_type": "markdown",
   "metadata": {
    "colab_type": "text",
    "id": "qFdPvlXBOdUN"
   },
   "source": [
    "# Better performance with the tf.data API"
   ]
  },
  {
   "cell_type": "markdown",
   "metadata": {
    "colab_type": "text",
    "id": "MfBg1C5NB3X0"
   },
   "source": [
    "<table class=\"tfo-notebook-buttons\" align=\"left\">\n",
    "  <td>\n",
    "    <a target=\"_blank\" href=\"https://www.tensorflow.org/guide/data_performance\"><img src=\"https://www.tensorflow.org/images/tf_logo_32px.png\" />View on TensorFlow.org</a>\n",
    "  </td>\n",
    "  <td>\n",
    "    <a target=\"_blank\" href=\"https://colab.research.google.com/github/tensorflow/docs/blob/master/site/en/guide/data_performance.ipynb\"><img src=\"https://www.tensorflow.org/images/colab_logo_32px.png\" />Run in Google Colab</a>\n",
    "  </td>\n",
    "  <td>\n",
    "    <a target=\"_blank\" href=\"https://github.com/tensorflow/docs/blob/master/site/en/guide/data_performance.ipynb\"><img src=\"https://www.tensorflow.org/images/GitHub-Mark-32px.png\" />View source on GitHub</a>\n",
    "  </td>\n",
    "  <td>\n",
    "    <a href=\"https://storage.googleapis.com/tensorflow_docs/docs/site/en/guide/data_performance.ipynb\"><img src=\"https://www.tensorflow.org/images/download_logo_32px.png\" />Download notebook</a>\n",
    "  </td>\n",
    "</table>"
   ]
  },
  {
   "cell_type": "markdown",
   "metadata": {
    "colab_type": "text",
    "id": "xHxb-dlhMIzW"
   },
   "source": [
    "## Overview\n",
    "\n",
    "GPUs and TPUs can radically reduce the time required to execute a single training step.\n",
    "Achieving peak performance requires an efficient input pipeline that delivers data for the next step before the current step has finished.\n",
    "The `tf.data` API helps to build flexible and efficient input pipelines.\n",
    "This document demonstrates how to use the `tf.data` API to build highly performant TensorFlow input pipelines.\n",
    "\n",
    "Before you continue, read the \"[Build TensorFlow input pipelines](./data.ipynb)\" guide, to learn how to use the `tf.data` API."
   ]
  },
  {
   "cell_type": "markdown",
   "metadata": {
    "colab_type": "text",
    "id": "UhNtHfuxCGVy"
   },
   "source": [
    "## Resources\n",
    "\n",
    "* [Build TensorFlow input pipelines](./data.ipynb)\n",
    "* `tf.data.Dataset` API"
   ]
  },
  {
   "cell_type": "markdown",
   "metadata": {
    "colab_type": "text",
    "id": "MUXex9ctTuDB"
   },
   "source": [
    "## Setup"
   ]
  },
  {
   "cell_type": "code",
   "execution_count": 1,
   "metadata": {
    "colab": {},
    "colab_type": "code",
    "id": "IqR2PQG4ZaZ0"
   },
   "outputs": [],
   "source": [
    "from __future__ import absolute_import, division, print_function, unicode_literals\n",
    "\n",
    "import tensorflow.compat.v2 as tf\n",
    "tf.enable_v2_behavior()\n",
    "\n",
    "import time"
   ]
  },
  {
   "cell_type": "markdown",
   "metadata": {},
   "source": [
    "Throughout this guide, you will iterate across a dataset and measure the performance.\n",
    "Making reproducible performance benchmarks can be difficult, different factors impacting it:\n",
    "- the current CPU load,\n",
    "- the network traffic,\n",
    "- complex mechanisms like cache, etc.\n",
    "\n",
    "Hence, to provide a reproducible benchmark, build an artificial example."
   ]
  },
  {
   "cell_type": "markdown",
   "metadata": {},
   "source": [
    "### The dataset\n",
    "\n",
    "Define a class inheriting from `tf.data.Dataset` called `ArtificialDataset`.\n",
    "This dataset:\n",
    "- generates `num_samples` samples (default is 3)\n",
    "- sleeps for some time before the first item to simulate opening a file\n",
    "- sleeps for some time before producing each item to simulate reading data from a file"
   ]
  },
  {
   "cell_type": "code",
   "execution_count": 3,
   "metadata": {},
   "outputs": [],
   "source": [
    "class ArtificialDataset(tf.data.Dataset):\n",
    "    def _generator(num_samples):\n",
    "        # Opening the file\n",
    "        time.sleep(0.03)\n",
    "        \n",
    "        for sample_idx in range(num_samples):\n",
    "            # Reading data (line, record) from the file\n",
    "            time.sleep(0.015)\n",
    "            \n",
    "            yield (sample_idx,)\n",
    "    \n",
    "    def __new__(cls, *args, num_samples=3):\n",
    "        return tf.data.Dataset.from_generator(\n",
    "            cls._generator,\n",
    "            output_types=tf.dtypes.int64,\n",
    "            output_shapes=(1,),\n",
    "            args=(num_samples,)\n",
    "        )"
   ]
  },
  {
   "cell_type": "markdown",
   "metadata": {},
   "source": [
    "This dataset is similar to the `tf.data.Dataset.range` one, adding a fixed delay at the beginning and between each sample."
   ]
  },
  {
   "cell_type": "markdown",
   "metadata": {},
   "source": [
    "### The training loop\n",
    "\n",
    "Write a dummy training loop that measures how long it takes to iterate over a dataset.\n",
    "Training time is simulated."
   ]
  },
  {
   "cell_type": "code",
   "execution_count": 4,
   "metadata": {},
   "outputs": [],
   "source": [
    "def benchmark(dataset, num_epochs=2):\n",
    "    start_time = time.perf_counter()\n",
    "    for epoch_num in range(num_epochs):\n",
    "        for sample in dataset:\n",
    "            # Performing a training step\n",
    "            time.sleep(0.01)\n",
    "    tf.print(\"Execution time:\", time.perf_counter() - start_time)"
   ]
  },
  {
   "cell_type": "markdown",
   "metadata": {},
   "source": [
    "## Optimize performance\n",
    "\n",
    "To exhibit how performance can be optimized, you will improve the performance of the `ArtificialDataset`."
   ]
  },
  {
   "cell_type": "markdown",
   "metadata": {},
   "source": [
    "### The naive approach\n",
    "\n",
    "Start with a naive pipeline using no tricks, iterating over the dataset as-is."
   ]
  },
  {
   "cell_type": "code",
   "execution_count": 5,
   "metadata": {},
   "outputs": [
    {
     "name": "stdout",
     "output_type": "stream",
     "text": [
      "Execution time: 0.27113273499708157\n"
     ]
    }
   ],
   "source": [
    "benchmark(ArtificialDataset())"
   ]
  },
  {
   "cell_type": "markdown",
   "metadata": {},
   "source": [
    "Under the hood, this is how your execution time was spent:\n",
    "\n",
    "![Naive](./naive.svg)\n",
    "\n",
    "You can see that performing a training step involves:\n",
    "- opening a file if it hasn't been opened yet,\n",
    "- fetching a data entry from the file,\n",
    "- using the data for training.\n",
    "\n",
    "However, in a naive synchronous implementation like here, while your pipeline is fetching the data, your model is sitting idle. \n",
    "Conversely, while your model is training, the input pipeline is sitting idle.\n",
    "The training step time is thus the sum of all, opening, reading and training time.\n",
    "\n",
    "The next sections build on this input pipeline, illustrating best practices for designing performant TensorFlow input pipelines."
   ]
  },
  {
   "cell_type": "markdown",
   "metadata": {},
   "source": [
    "### Prefetching\n",
    "\n",
    "Prefetching overlaps the preprocessing and model execution of a training step.\n",
    "While the model is executing training step `s`, the input pipeline is reading the data for step `s+1`.\n",
    "Doing so reduces the step time to the maximum (as opposed to the sum) of the training and the time it takes to extract the data.\n",
    "\n",
    "The `tf.data` API provides the `tf.data.Dataset.prefetch` transformation.\n",
    "It can be used to decouple the time when data is produced from the time when data is consumed.\n",
    "In particular, the transformation uses a background thread and an internal buffer to prefetch elements from the input dataset ahead of the time they are requested.\n",
    "The number of elements to prefetch should be equal to (or possibly greater than) the number of batches consumed by a single training step.\n",
    "You could either manually tune this value, or set it to `tf.data.experimental.AUTOTUNE` which will prompt the\n",
    "`tf.data` runtime to tune the value dynamically at runtime.\n",
    "\n",
    "Note that the prefetch transformation provides benefits any time there is an opportunity to overlap the work of a \"producer\" with the work of a \"consumer.\""
   ]
  },
  {
   "cell_type": "code",
   "execution_count": 6,
   "metadata": {},
   "outputs": [
    {
     "name": "stdout",
     "output_type": "stream",
     "text": [
      "Execution time: 0.22440315700077917\n"
     ]
    }
   ],
   "source": [
    "benchmark(\n",
    "    ArtificialDataset()\n",
    "    .prefetch(tf.data.experimental.AUTOTUNE)\n",
    ")"
   ]
  },
  {
   "cell_type": "markdown",
   "metadata": {},
   "source": [
    "![Prefetched](./prefetched.svg)\n",
    "\n",
    "This time you can see that while the training step is running for sample 0, the input pipeline is reading the data for the sample 1, and so on."
   ]
  },
  {
   "cell_type": "markdown",
   "metadata": {},
   "source": [
    "### Parallelizing data extraction\n",
    "\n",
    "In a real-world setting, the input data may be stored remotely (for example, GCS or HDFS).\n",
    "A dataset pipeline that works well when reading data locally might become bottlenecked on I/O when reading data remotely because of the following differences between local and remote storage:\n",
    "\n",
    "*   **Time-to-first-byte:** Reading the first byte of a file from remote storage can take orders of magnitude longer than from local storage.\n",
    "*   **Read throughput:** While remote storage typically offers large aggregate bandwidth, reading a single file might only be able to utilize a small fraction of this bandwidth.\n",
    "\n",
    "In addition, once the raw bytes are loaded into memory, it may also be necessary to deserialize and/or decrypt the data (e.g. [protobuf](https://developers.google.com/protocol-buffers/)), which requires additional computation.\n",
    "This overhead is present irrespective of whether the data is stored locally or remotely, but can be worse in the remote case if data is not prefetched effectively.\n",
    "\n",
    "To mitigate the impact of the various data extraction overheads, the `tf.data.Dataset.interleave` transformation can be used to parallelize the data loading step, interleaving the contents of other datasets (such as data file\n",
    "readers).\n",
    "The number of datasets to overlap can be specified by the `cycle_length` argument, while the level of parallelism can be specified by the `num_parallel_calls` argument. Similar to the `prefetch` transformation, the `interleave` transformation supports `tf.data.experimental.AUTOTUNE` which will delegate the decision about what level of parallelism to use to the `tf.data` runtime."
   ]
  },
  {
   "cell_type": "markdown",
   "metadata": {},
   "source": [
    "#### Sequential interleave\n",
    "\n",
    "The default arguments of the `tf.data.Dataset.interleave` transformation make it interleave single samples from two datasets sequentially."
   ]
  },
  {
   "cell_type": "code",
   "execution_count": 7,
   "metadata": {},
   "outputs": [
    {
     "name": "stdout",
     "output_type": "stream",
     "text": [
      "Execution time: 0.50090046999685\n"
     ]
    }
   ],
   "source": [
    "benchmark(\n",
    "    tf.data.Dataset.range(2)\n",
    "    .interleave(ArtificialDataset)\n",
    ")"
   ]
  },
  {
   "cell_type": "markdown",
   "metadata": {},
   "source": [
    "![Sequential interleave](./sequential_interleave.svg)\n",
    "\n",
    "This plot allows to exhibit the behavior of the `interleave` transformation, fetching samples alternatively from the two datasets available.\n",
    "However, no performance improvement is involved here."
   ]
  },
  {
   "cell_type": "markdown",
   "metadata": {},
   "source": [
    "#### Parallel interleave\n",
    "\n",
    "Now use the `num_parallel_calls` argument of the `interleave` transformation.\n",
    "This loads multiple datasets in parallel, reducing the time waiting for the files to be opened."
   ]
  },
  {
   "cell_type": "code",
   "execution_count": 8,
   "metadata": {},
   "outputs": [
    {
     "name": "stdout",
     "output_type": "stream",
     "text": [
      "Execution time: 0.2880299339958583\n"
     ]
    }
   ],
   "source": [
    "benchmark(\n",
    "    tf.data.Dataset.range(2)\n",
    "    .interleave(\n",
    "        ArtificialDataset,\n",
    "        num_parallel_calls=tf.data.experimental.AUTOTUNE\n",
    "    )\n",
    ")"
   ]
  },
  {
   "cell_type": "markdown",
   "metadata": {},
   "source": [
    "![Parallel interleave](./parallel_interleave.svg)\n",
    "\n",
    "This time, the reading of the two datasets is parallelized, reducing the global data processing time."
   ]
  },
  {
   "cell_type": "markdown",
   "metadata": {},
   "source": [
    "### Parallelizing data transformation\n",
    "\n",
    "When preparing data, input elements may need to be pre-processed.\n",
    "To this end, the `tf.data` API offers the `tf.data.Dataset.map` transformation, which applies a user-defined function to each element of the input dataset.\n",
    "Because input elements are independent of one another, the pre-processing can be parallelized across multiple CPU cores.\n",
    "To make this possible, similarly to the `prefetch` and `interleave` transformations, the `map` transformation provides the `num_parallel_calls` argument to specify the level of parallelism.\n",
    "\n",
    "Choosing the best value for the `num_parallel_calls` argument depends on your hardware, characteristics of your training data (such as its size and shape), the cost of your map function, and what other processing is happening on the CPU at the same time.\n",
    "A simple heuristic is to use the number of available CPU cores.\n",
    "However, as for the `prefetch` and `interleave` transformation, the `map` transformation supports `tf.data.experimental.AUTOTUNE` which will delegate the decision about what level of parallelism to use to the `tf.data` runtime."
   ]
  },
  {
   "cell_type": "code",
   "execution_count": 9,
   "metadata": {},
   "outputs": [],
   "source": [
    "def mapped_function(s):\n",
    "    # Do some hard pre-processing\n",
    "    tf.py_function(lambda: time.sleep(0.03), [], ())\n",
    "    return s"
   ]
  },
  {
   "cell_type": "markdown",
   "metadata": {},
   "source": [
    "#### Sequential mapping\n",
    "\n",
    "Start by using the `map` transformation without parallelism as a baseline example."
   ]
  },
  {
   "cell_type": "code",
   "execution_count": 10,
   "metadata": {},
   "outputs": [
    {
     "name": "stdout",
     "output_type": "stream",
     "text": [
      "Execution time: 0.44273551500373287\n"
     ]
    }
   ],
   "source": [
    "benchmark(\n",
    "    ArtificialDataset()\n",
    "    .map(mapped_function)\n",
    ")"
   ]
  },
  {
   "cell_type": "markdown",
   "metadata": {},
   "source": [
    "![Sequential mapping](./sequential_map.svg)\n",
    "\n",
    "As for the [naive approach](#The-naive-approach), here the times spent for opening, reading, pre-processing (mapping) and training steps sum together for a single iteration."
   ]
  },
  {
   "cell_type": "markdown",
   "metadata": {},
   "source": [
    "#### Parallel mapping\n",
    "\n",
    "Now, use the same pre-processing function but apply it in parallel on multiple samples."
   ]
  },
  {
   "cell_type": "code",
   "execution_count": 11,
   "metadata": {},
   "outputs": [
    {
     "name": "stdout",
     "output_type": "stream",
     "text": [
      "Execution time: 0.30008624699985376\n"
     ]
    }
   ],
   "source": [
    "benchmark(\n",
    "    ArtificialDataset()\n",
    "    .map(\n",
    "        mapped_function,\n",
    "        num_parallel_calls=tf.data.experimental.AUTOTUNE\n",
    "    )\n",
    ")"
   ]
  },
  {
   "cell_type": "markdown",
   "metadata": {},
   "source": [
    "![Parallel mapping](./parallel_map.svg)\n",
    "\n",
    "Now, you can see on the plot that the pre-processing steps overlap, reducing the overall time for a single iteration."
   ]
  },
  {
   "cell_type": "markdown",
   "metadata": {},
   "source": [
    "### Caching\n",
    "\n",
    "The `tf.data.Dataset.cache` transformation can cache a dataset, either in memory or on local storage.\n",
    "This will save some operations (like file opening and data reading) from being executed during each epoch."
   ]
  },
  {
   "cell_type": "code",
   "execution_count": 14,
   "metadata": {},
   "outputs": [
    {
     "name": "stdout",
     "output_type": "stream",
     "text": [
      "Execution time: 0.43672653599787736\n"
     ]
    }
   ],
   "source": [
    "benchmark(\n",
    "    ArtificialDataset()\n",
    "    .map(  # Apply time consuming operations before cache\n",
    "        mapped_function\n",
    "    ).cache(\n",
    "    ),\n",
    "    5\n",
    ")"
   ]
  },
  {
   "cell_type": "markdown",
   "metadata": {},
   "source": [
    "![Cached dataset](./cached_dataset.svg)\n",
    "\n",
    "When you cache a dataset, the transformations before the `cache` one (like the file opening and data reading) are executed only during the first epoch.\n",
    "The next epochs will reuse the data cached by the`cache` transformation.\n",
    "\n",
    "If the user-defined function passed into the `map` transformation is expensive, apply the `cache` transformation after the `map` transformation as long as the resulting dataset can still fit into memory or local storage.\n",
    "If the user-defined function increases the space required to store the dataset beyond the cache capacity, either apply it after the `cache` transformation or consider pre-processing your data before your training job to reduce resource usage."
   ]
  },
  {
   "cell_type": "markdown",
   "metadata": {},
   "source": [
    "### Vectorizing mapping\n",
    "\n",
    "Invoking a user-defined function passed into the `map` transformation has overhead related to scheduling and executing the user-defined function.\n",
    "We recommend vectorizing the user-defined function (that is, have it operate over a batch of inputs at once) and apply the `batch` transformation _before_ the `map` transformation.\n",
    "\n",
    "To illustrate this good practice, your artificial dataset is not suitable.\n",
    "The scheduling delay is around 10 microseconds (10e-6 seconds), far less than the tens of milliseconds used in the `ArtificialDataset`, and thus its impact is hard to see.\n",
    "\n",
    "For this example, use the base `tf.data.Dataset.range` function and simplify the training loop to its simplest form."
   ]
  },
  {
   "cell_type": "code",
   "execution_count": 18,
   "metadata": {},
   "outputs": [],
   "source": [
    "fast_dataset = tf.data.Dataset.range(10000)\n",
    "\n",
    "def fast_benchmark(dataset, num_epochs=2):\n",
    "    start_time = time.perf_counter()\n",
    "    for _ in tf.data.Dataset.range(num_epochs):\n",
    "        for _ in dataset:\n",
    "            pass\n",
    "    tf.print(\"Execution time:\", time.perf_counter() - start_time)"
   ]
  },
  {
   "cell_type": "markdown",
   "metadata": {},
   "source": [
    "#### Scalar mapping"
   ]
  },
  {
   "cell_type": "code",
   "execution_count": 19,
   "metadata": {},
   "outputs": [
    {
     "name": "stdout",
     "output_type": "stream",
     "text": [
      "WARNING:tensorflow:Entity <function <lambda> at 0x7fafec11b6a8> could not be transformed and will be executed as-is. Please report this to the AutoGraph team. When filing the bug, set the verbosity to 10 (on Linux, `export AUTOGRAPH_VERBOSITY=10`) and attach the full output. Cause: expected exactly one node node, found []\n",
      "WARNING: Entity <function <lambda> at 0x7fafec11b6a8> could not be transformed and will be executed as-is. Please report this to the AutoGraph team. When filing the bug, set the verbosity to 10 (on Linux, `export AUTOGRAPH_VERBOSITY=10`) and attach the full output. Cause: expected exactly one node node, found []\n",
      "Execution time: 0.4826263709983323\n"
     ]
    }
   ],
   "source": [
    "fast_benchmark(\n",
    "    fast_dataset\n",
    "    # Apply function one item at a time\n",
    "    .map(lambda x: x+1)\n",
    "    # Batch and unbatch to compare with the vectorized version\n",
    "    .batch(256)\n",
    ")"
   ]
  },
  {
   "cell_type": "markdown",
   "metadata": {},
   "source": [
    "![Scalar map](./scalar_map.svg)\n",
    "\n",
    "The plot above illustrate what is going on (with less samples).\n",
    "You can see that the mapped function is applied for each sample.\n",
    "While this function is very fast, it has some overhead that impact the time performance."
   ]
  },
  {
   "cell_type": "markdown",
   "metadata": {},
   "source": [
    "#### Vectorized mapping"
   ]
  },
  {
   "cell_type": "code",
   "execution_count": 20,
   "metadata": {},
   "outputs": [
    {
     "name": "stdout",
     "output_type": "stream",
     "text": [
      "WARNING:tensorflow:Entity <function <lambda> at 0x7fafa6a6f9d8> could not be transformed and will be executed as-is. Please report this to the AutoGraph team. When filing the bug, set the verbosity to 10 (on Linux, `export AUTOGRAPH_VERBOSITY=10`) and attach the full output. Cause: expected exactly one node node, found []\n",
      "WARNING: Entity <function <lambda> at 0x7fafa6a6f9d8> could not be transformed and will be executed as-is. Please report this to the AutoGraph team. When filing the bug, set the verbosity to 10 (on Linux, `export AUTOGRAPH_VERBOSITY=10`) and attach the full output. Cause: expected exactly one node node, found []\n",
      "Execution time: 0.06038657800309011\n"
     ]
    }
   ],
   "source": [
    "fast_benchmark(\n",
    "    fast_dataset\n",
    "    .batch(256)\n",
    "    # Apply function on a batch of items\n",
    "    # The tf.Tensor.__add__ method already handle batches\n",
    "    .map(lambda x: x+1)\n",
    ")"
   ]
  },
  {
   "cell_type": "markdown",
   "metadata": {
    "scrolled": false
   },
   "source": [
    "![Vectorized map](./vectorized_map.svg)\n",
    "\n",
    "This time, the mapped function is called once and applies to a batch of sample.\n",
    "While the function could takes more time to execute, the overhead appear only once, improving the overall time performance."
   ]
  },
  {
   "cell_type": "markdown",
   "metadata": {},
   "source": [
    "### Reducing memory footprint\n",
    "\n",
    "A number of transformations, including `interleave`, `prefetch`, and `shuffle`,\n",
    "maintain an internal buffer of elements. If the user-defined function passed\n",
    "into the `map` transformation changes the size of the elements, then the\n",
    "ordering of the map transformation and the transformations that buffer elements\n",
    "affects the memory usage. In general, we recommend choosing the order that\n",
    "results in lower memory footprint, unless different ordering is desirable for\n",
    "performance.\n",
    "\n",
    "#### Caching partial computations\n",
    "\n",
    "It is recommended to cache the dataset after the `map` transformation except if this transformation makes the data too big to fit in memory.\n",
    "A trade-off can be achieved if your mapped function can be split in two parts: a time consuming one and a memory consuming part.\n",
    "In this case, you can chain your transformations like below:\n",
    "\n",
    "```python\n",
    "dataset.map(time_consuming_mapping).cache().map(memory_consuming_mapping)\n",
    "```\n",
    "\n",
    "This way, the time consuming part is only executed during the first epoch, and you avoid using too much cache space."
   ]
  },
  {
   "cell_type": "markdown",
   "metadata": {},
   "source": [
    "## Best practice summary\n",
    "\n",
    "Here is a summary of the best practices for designing performant TensorFlow\n",
    "input pipelines:\n",
    "\n",
    "*   [Use the `prefetch` transformation](#Pipelining) to overlap the work of a producer and consumer.\n",
    "*   [Parallelize the data reading transformation](#Parallelizing-data-extraction) using the `interleave` transformation.\n",
    "*   [Parallelize the `map` transformation](#Parallelizing-data-transformation) by setting the `num_parallel_calls` argument.\n",
    "*   [Use the `cache` transformation](#Caching) to cache data in memory during the first epoch\n",
    "*   [Vectorize user-defined functions](#Map-and-batch) passed in to the `map` transformation\n",
    "*   [Reduce memory usage](#Reducing-memory-footprint) when applying the `interleave`, `prefetch`, and `shuffle` transformations."
   ]
  },
  {
   "cell_type": "markdown",
   "metadata": {},
   "source": [
    "## Next steps\n",
    "\n",
    "You now have an optimized pipeline.\n",
    "You can still play around with these transformations and others.\n",
    "Take a look at the [monitoring guide](./data_debug.ipynb) that gives some tips and tricks to debug and monitor your pipeline."
   ]
  }
 ],
 "metadata": {
  "kernelspec": {
   "display_name": "Python 3",
   "language": "python",
   "name": "python3"
  },
  "language_info": {
   "codemirror_mode": {
    "name": "ipython",
    "version": 3
   },
   "file_extension": ".py",
   "mimetype": "text/x-python",
   "name": "python",
   "nbconvert_exporter": "python",
   "pygments_lexer": "ipython3",
   "version": "3.6.8"
  }
 },
 "nbformat": 4,
 "nbformat_minor": 2
}
